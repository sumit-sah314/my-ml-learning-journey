{
 "cells": [
  {
   "cell_type": "markdown",
   "id": "cec1dd72",
   "metadata": {},
   "source": [
    "<h3 align=\"center\">Codebasics ML Course: XGBoost Classifier Tutorial</h3>"
   ]
  },
  {
   "cell_type": "markdown",
   "id": "562bef3c",
   "metadata": {},
   "source": [
    "We will generate a synthetic dataset using make_classification method of sklearn. This will help us generate some informative features and some redundant features"
   ]
  },
  {
   "cell_type": "code",
   "execution_count": 12,
   "id": "2369e660",
   "metadata": {},
   "outputs": [],
   "source": [
    "from sklearn.datasets import make_classification\n",
    "from sklearn.model_selection import train_test_split\n",
    "\n",
    "\n",
    "X, y = make_classification(\n",
    "    n_features=10, \n",
    "    n_samples=10000, \n",
    "    n_informative=4,\n",
    "    n_redundant=6,\n",
    "    n_repeated=0,\n",
    "    n_classes=3, \n",
    "    random_state=42\n",
    ")\n",
    "\n",
    "X_train, X_test, y_train, y_test = train_test_split(X, y, test_size=0.2, random_state=10)"
   ]
  },
  {
   "cell_type": "code",
   "execution_count": 13,
   "id": "b7be5e32",
   "metadata": {},
   "outputs": [
    {
     "data": {
      "text/plain": [
       "array([[ 0.07487561,  0.39643367, -0.60059234, -0.1635334 , -0.08398917,\n",
       "         0.43720772, -0.35445089, -0.1534532 ,  0.15646613,  2.16883118],\n",
       "       [-1.96695254,  1.85466946,  1.31859994, -0.47729883,  1.51258377,\n",
       "         0.13630536, -1.01377145, -1.33071511, -0.31085581,  1.97215081]])"
      ]
     },
     "execution_count": 13,
     "metadata": {},
     "output_type": "execute_result"
    }
   ],
   "source": [
    "X[:2]"
   ]
  },
  {
   "cell_type": "code",
   "execution_count": 14,
   "id": "bb4661f6",
   "metadata": {},
   "outputs": [
    {
     "data": {
      "text/plain": [
       "array([1, 0])"
      ]
     },
     "execution_count": 14,
     "metadata": {},
     "output_type": "execute_result"
    }
   ],
   "source": [
    "y[:2]"
   ]
  },
  {
   "cell_type": "code",
   "execution_count": 15,
   "id": "f12a575c",
   "metadata": {
    "scrolled": true
   },
   "outputs": [
    {
     "name": "stdout",
     "output_type": "stream",
     "text": [
      "              precision    recall  f1-score   support\n",
      "\n",
      "           0       0.70      0.78      0.74       664\n",
      "           1       0.59      0.59      0.59       640\n",
      "           2       0.65      0.58      0.61       696\n",
      "\n",
      "    accuracy                           0.65      2000\n",
      "   macro avg       0.65      0.65      0.65      2000\n",
      "weighted avg       0.65      0.65      0.65      2000\n",
      "\n"
     ]
    }
   ],
   "source": [
    "from sklearn.linear_model import LogisticRegression\n",
    "from sklearn.metrics import classification_report\n",
    "\n",
    "model = LogisticRegression(max_iter=1000)\n",
    "model.fit(X_train, y_train)\n",
    "\n",
    "y_pred = model.predict(X_test)\n",
    "report = classification_report(y_test, y_pred)\n",
    "print(report)"
   ]
  },
  {
   "cell_type": "code",
   "execution_count": 16,
   "id": "53d88e47",
   "metadata": {},
   "outputs": [
    {
     "name": "stdout",
     "output_type": "stream",
     "text": [
      "              precision    recall  f1-score   support\n",
      "\n",
      "           0       0.86      0.88      0.87       664\n",
      "           1       0.82      0.84      0.83       640\n",
      "           2       0.89      0.85      0.87       696\n",
      "\n",
      "    accuracy                           0.86      2000\n",
      "   macro avg       0.86      0.86      0.86      2000\n",
      "weighted avg       0.86      0.86      0.86      2000\n",
      "\n"
     ]
    }
   ],
   "source": [
    "from xgboost import XGBClassifier\n",
    "from sklearn.metrics import classification_report\n",
    "\n",
    "model = XGBClassifier()\n",
    "model.fit(X_train, y_train)\n",
    "\n",
    "y_pred = model.predict(X_test)\n",
    "report = classification_report(y_test, y_pred)\n",
    "print(report)"
   ]
  }
 ],
 "metadata": {
  "kernelspec": {
   "display_name": "Python [conda env:base] *",
   "language": "python",
   "name": "conda-base-py"
  },
  "language_info": {
   "codemirror_mode": {
    "name": "ipython",
    "version": 3
   },
   "file_extension": ".py",
   "mimetype": "text/x-python",
   "name": "python",
   "nbconvert_exporter": "python",
   "pygments_lexer": "ipython3",
   "version": "3.12.7"
  }
 },
 "nbformat": 4,
 "nbformat_minor": 5
}
