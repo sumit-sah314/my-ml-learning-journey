{
 "cells": [
  {
   "cell_type": "markdown",
   "id": "a884d882-4edf-4c5c-9ac0-1c4012314b46",
   "metadata": {},
   "source": [
    "## Import Datasets and Libraries"
   ]
  },
  {
   "cell_type": "code",
   "execution_count": 1,
   "id": "3744ec08-02ed-47f7-acfb-6bc1dd027110",
   "metadata": {},
   "outputs": [
    {
     "name": "stdout",
     "output_type": "stream",
     "text": [
      "Score:  0.3376701658930997\n",
      "[[ 0.85238169  0.12238224 -0.30511591  0.37113188 -0.00229841 -0.03662363\n",
      "  -0.89663505 -0.86892682]]\n",
      "[2.06786231]\n"
     ]
    }
   ],
   "source": [
    "from sklearn.datasets import fetch_california_housing\n",
    "from sklearn.preprocessing import StandardScaler\n",
    "from sklearn.model_selection import train_test_split\n",
    "from sklearn.linear_model import LinearRegression\n",
    "from sklearn.metrics import r2_score\n",
    "# Load dataset\n",
    "data = fetch_california_housing()\n",
    "X_np = data.data  # shape: (20640, 8)\n",
    "y_np = data.target.reshape(-1, 1)  # shape: (20640, 1)\n",
    "\n",
    "# Scale features (important for gradient descent)\n",
    "scaler = StandardScaler()\n",
    "X_scaled = scaler.fit_transform(X_np)\n",
    "\n",
    "# Train-test split\n",
    "X_train, X_test, y_train, y_test = train_test_split(X_scaled, y_np, test_size=0.2, random_state=42)\n",
    "model = LinearRegression()\n",
    "model.fit(X_train, y_train)\n",
    "y_pred = model.predict(X_test)\n",
    "score = r2_score(y_pred, y_test)\n",
    "print('Score: ', score)\n",
    "print(model.coef_)\n",
    "print(model.intercept_)"
   ]
  },
  {
   "cell_type": "markdown",
   "id": "18a3a086-2eae-4659-9ebf-88affa84696c",
   "metadata": {},
   "source": [
    "## Model Using Neural Networks (PyTorch):\n",
    "### No Hidden Layers"
   ]
  },
  {
   "cell_type": "code",
   "execution_count": 3,
   "id": "c68a494f-970d-4e6d-a27a-b553fa5fae6c",
   "metadata": {},
   "outputs": [],
   "source": [
    "import torch\n",
    "import torch.nn as nn\n",
    "#Convert to Tensors\n",
    "X_train_tensor = torch.from_numpy(X_train).float()\n",
    "y_train_tensor = torch.from_numpy(y_train).float()\n",
    "\n",
    "X_test_tensor = torch.from_numpy(X_test).float()\n",
    "y_test_tensor = torch.from_numpy(y_test).float()"
   ]
  },
  {
   "cell_type": "code",
   "execution_count": 4,
   "id": "3b932a9b-ba93-4372-9097-695c2bfab243",
   "metadata": {},
   "outputs": [
    {
     "name": "stdout",
     "output_type": "stream",
     "text": [
      "Epoch 0: Training Loss = 4.8135\n",
      "Epoch 100: Training Loss = 1.4749\n",
      "Epoch 200: Training Loss = 0.6832\n",
      "Epoch 300: Training Loss = 0.5352\n",
      "Epoch 400: Training Loss = 0.5190\n",
      "Epoch 500: Training Loss = 0.5180\n",
      "Epoch 600: Training Loss = 0.5179\n",
      "Epoch 700: Training Loss = 0.5179\n",
      "Epoch 800: Training Loss = 0.5179\n",
      "Epoch 900: Training Loss = 0.5179\n"
     ]
    }
   ],
   "source": [
    "model = nn.Linear(in_features=8, out_features=1)\n",
    "loss_fn = nn.MSELoss()\n",
    "optimizer = torch.optim.Adam(model.parameters(), lr=0.01)\n",
    "n_epochs = 1000\n",
    "\n",
    "for epoch in range(n_epochs):\n",
    "    model.train()\n",
    "    y_pred = model(X_train_tensor)\n",
    "    loss = loss_fn(y_pred, y_train_tensor)\n",
    "\n",
    "    optimizer.zero_grad()\n",
    "    loss.backward()\n",
    "    optimizer.step()\n",
    "\n",
    "    if epoch % 100 == 0:\n",
    "        print(f\"Epoch {epoch}: Training Loss = {loss.item():.4f}\")"
   ]
  },
  {
   "cell_type": "code",
   "execution_count": 5,
   "id": "57366ede-51d7-406a-8a44-8879341e5931",
   "metadata": {},
   "outputs": [
    {
     "name": "stdout",
     "output_type": "stream",
     "text": [
      "R2 score: 0.3377\n",
      "tensor([[ 0.8524,  0.1224, -0.3051,  0.3711, -0.0023, -0.0366, -0.8966, -0.8689]])\n",
      "tensor([2.0679])\n"
     ]
    }
   ],
   "source": [
    "def r2_score_torch(y_true, y_pred):\n",
    "    ss_total = ((y_true - y_true.mean()) ** 2).sum()\n",
    "    ss_res = ((y_true - y_pred) ** 2).sum()\n",
    "    r2 = 1 - ss_res / ss_total\n",
    "    return r2.item()\n",
    "    \n",
    "with torch.no_grad():\n",
    "    y_test_pred = model(X_test_tensor)\n",
    "    score = r2_score_torch(y_test_pred, y_test_tensor)\n",
    "\n",
    "print(f\"R2 score: {score:.4f}\")\n",
    "print(model.weight.data)\n",
    "print(model.bias.data)"
   ]
  },
  {
   "cell_type": "markdown",
   "id": "67a6f249-ed35-4e8a-a31d-52a924dd22f6",
   "metadata": {},
   "source": [
    "### One Hidden Layer With ReLU"
   ]
  },
  {
   "cell_type": "code",
   "execution_count": 6,
   "id": "639e5455-b993-456d-836f-f094f7ae5f48",
   "metadata": {},
   "outputs": [],
   "source": [
    "class SimpleNN(nn.Module):\n",
    "    def __init__(self, input_dim, hidden_dim):\n",
    "        super(SimpleNN, self).__init__()\n",
    "        self.fc1 = nn.Linear(input_dim, hidden_dim)\n",
    "        self.relu = nn.ReLU()\n",
    "        self.fc2 = nn.Linear(hidden_dim, 1)\n",
    "\n",
    "    def forward(self, x):\n",
    "        x = self.fc1(x)\n",
    "        x = self.relu(x)\n",
    "        x = self.fc2(x)\n",
    "        return x\n",
    "\n",
    "# Initializing the model\n",
    "input_dim = X_train.shape[1]\n",
    "hidden_dim = 128  # can try other values like 32 or 128\n",
    "model = SimpleNN(input_dim, hidden_dim)"
   ]
  },
  {
   "cell_type": "code",
   "execution_count": 7,
   "id": "310893ec-3980-4004-9332-c69af2687de3",
   "metadata": {},
   "outputs": [
    {
     "name": "stdout",
     "output_type": "stream",
     "text": [
      "Epoch 0: Training Loss = 6.2244\n",
      "Epoch 100: Training Loss = 0.3850\n",
      "Epoch 200: Training Loss = 0.3403\n",
      "Epoch 300: Training Loss = 0.3107\n",
      "Epoch 400: Training Loss = 0.2941\n",
      "Epoch 500: Training Loss = 0.2842\n",
      "Epoch 600: Training Loss = 0.2770\n",
      "Epoch 700: Training Loss = 0.2708\n",
      "Epoch 800: Training Loss = 0.2650\n",
      "Epoch 900: Training Loss = 0.2603\n"
     ]
    }
   ],
   "source": [
    "criterion = nn.MSELoss()\n",
    "optimizer = torch.optim.Adam(model.parameters(), lr=0.01)\n",
    "n_epochs = 1000\n",
    "\n",
    "for epoch in range(n_epochs):\n",
    "    model.train()\n",
    "    y_pred = model(X_train_tensor)\n",
    "    loss = criterion(y_pred, y_train_tensor)\n",
    "\n",
    "    optimizer.zero_grad()\n",
    "    loss.backward()\n",
    "    optimizer.step()\n",
    "\n",
    "    if epoch % 100 == 0:\n",
    "        print(f\"Epoch {epoch}: Training Loss = {loss.item():.4f}\")\n"
   ]
  },
  {
   "cell_type": "code",
   "execution_count": 8,
   "id": "5ba0d100-69d9-4ea6-8155-1fee8f66ddd7",
   "metadata": {},
   "outputs": [
    {
     "name": "stdout",
     "output_type": "stream",
     "text": [
      "R² Score on Test Set: 0.7826993465423584\n"
     ]
    }
   ],
   "source": [
    "model.eval()\n",
    "with torch.no_grad():\n",
    "    y_test_pred = model(X_test_tensor)\n",
    "    r2 = r2_score_torch(y_test_tensor, y_test_pred)\n",
    "    print(\"R² Score on Test Set:\", r2)"
   ]
  },
  {
   "cell_type": "markdown",
   "id": "4421c8d8-2b42-4e03-beff-a164c015b896",
   "metadata": {},
   "source": [
    "### Two Hidden Layers with ReLU"
   ]
  },
  {
   "cell_type": "code",
   "execution_count": 9,
   "id": "e11f7937-85a8-4f52-a392-3fa8de087203",
   "metadata": {},
   "outputs": [],
   "source": [
    "class TwoLayerNN(nn.Module):\n",
    "    def __init__(self, input_dim, hidden1_dim, hidden2_dim):\n",
    "        super(TwoLayerNN, self).__init__()\n",
    "        self.fc1 = nn.Linear(input_dim, hidden1_dim)\n",
    "        self.relu1 = nn.ReLU()\n",
    "        self.fc2 = nn.Linear(hidden1_dim, hidden2_dim)\n",
    "        self.relu2 = nn.ReLU()\n",
    "        self.fc3 = nn.Linear(hidden2_dim, 1)\n",
    "\n",
    "    def forward(self, x):\n",
    "        x = self.fc1(x)\n",
    "        x = self.relu1(x)\n",
    "        x = self.fc2(x)\n",
    "        x = self.relu2(x)\n",
    "        x = self.fc3(x)\n",
    "        return x\n",
    "\n",
    "# Example architecture\n",
    "input_dim = X_train.shape[1]  # 8\n",
    "hidden1_dim = 64\n",
    "hidden2_dim = 32\n",
    "\n",
    "model = TwoLayerNN(input_dim, hidden1_dim, hidden2_dim)"
   ]
  },
  {
   "cell_type": "code",
   "execution_count": 12,
   "id": "5121ba07-79ff-4ff1-b8e1-90195c0903a7",
   "metadata": {},
   "outputs": [
    {
     "name": "stdout",
     "output_type": "stream",
     "text": [
      "Epoch 0: Training Loss = 0.2815\n",
      "Epoch 100: Training Loss = 0.2745\n",
      "Epoch 200: Training Loss = 0.2673\n",
      "Epoch 300: Training Loss = 0.2620\n",
      "Epoch 400: Training Loss = 0.2570\n",
      "Epoch 500: Training Loss = 0.2512\n",
      "Epoch 600: Training Loss = 0.2465\n",
      "Epoch 700: Training Loss = 0.2429\n",
      "Epoch 800: Training Loss = 0.2396\n",
      "Epoch 900: Training Loss = 0.2408\n"
     ]
    }
   ],
   "source": [
    "criterion = nn.MSELoss()\n",
    "optimizer = torch.optim.Adam(model.parameters(), lr=0.01)\n",
    "n_epochs = 1000\n",
    "\n",
    "for epoch in range(n_epochs):\n",
    "    model.train()\n",
    "    y_pred = model(X_train_tensor)\n",
    "    loss = criterion(y_pred, y_train_tensor)\n",
    "\n",
    "    optimizer.zero_grad()\n",
    "    loss.backward()\n",
    "    optimizer.step()\n",
    "\n",
    "    if epoch % 100 == 0:\n",
    "        print(f\"Epoch {epoch}: Training Loss = {loss.item():.4f}\")"
   ]
  },
  {
   "cell_type": "code",
   "execution_count": 13,
   "id": "95b0fe80-3af1-45cd-b6d8-ebae722d319f",
   "metadata": {},
   "outputs": [
    {
     "name": "stdout",
     "output_type": "stream",
     "text": [
      "R² Score on Test Set: 0.7905864715576172\n"
     ]
    }
   ],
   "source": [
    "model.eval()\n",
    "with torch.no_grad():\n",
    "    y_test_pred = model(X_test_tensor)\n",
    "    r2 = r2_score_torch(y_test_tensor, y_test_pred)\n",
    "    print(\"R² Score on Test Set:\", r2)"
   ]
  }
 ],
 "metadata": {
  "kernelspec": {
   "display_name": "Python [conda env:base] *",
   "language": "python",
   "name": "conda-base-py"
  },
  "language_info": {
   "codemirror_mode": {
    "name": "ipython",
    "version": 3
   },
   "file_extension": ".py",
   "mimetype": "text/x-python",
   "name": "python",
   "nbconvert_exporter": "python",
   "pygments_lexer": "ipython3",
   "version": "3.12.7"
  }
 },
 "nbformat": 4,
 "nbformat_minor": 5
}
