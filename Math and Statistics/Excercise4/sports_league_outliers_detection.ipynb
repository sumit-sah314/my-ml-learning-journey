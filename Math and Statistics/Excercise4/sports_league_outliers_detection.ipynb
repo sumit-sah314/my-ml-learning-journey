{
 "cells": [
  {
   "cell_type": "markdown",
   "id": "632e8efc",
   "metadata": {},
   "source": [
    "## Problem Statement\n",
    "\n",
    "\n",
    "You are a data scientist working for a sports analytics company. The dataset, named **\"sports_league_data.csv\"** includes a variety of attributes for players in the league. The columns in the dataset are as follows:\n",
    "\n",
    "- **player_id:** A unique identifier for each player.\n",
    "- **age:** Age of the player.\n",
    "- **position:** The position the player typically plays in (e.g., Forward, Midfielder, Defender, Goalkeeper).\n",
    "- **team:** The team the player belongs to.\n",
    "- **games_played:** The total number of games played by the player in the season.\n",
    "- **player_rating:** An overall performance rating for the player for the season."
   ]
  },
  {
   "cell_type": "code",
   "execution_count": null,
   "id": "e9c234f5",
   "metadata": {},
   "outputs": [],
   "source": []
  },
  {
   "cell_type": "markdown",
   "id": "3a64f293",
   "metadata": {},
   "source": [
    "**Import Necessary Libraries**"
   ]
  },
  {
   "cell_type": "code",
   "execution_count": null,
   "id": "8a8c938b",
   "metadata": {},
   "outputs": [],
   "source": []
  },
  {
   "cell_type": "markdown",
   "id": "e80ff04b",
   "metadata": {},
   "source": [
    "## Task1\n",
    "\n",
    "1. Import the data from the \"sports_league_data.csv\" file.\n",
    "2. display the number of rows and columns. \n",
    "3. Display the first few rows of the dataset to get an overview.\n"
   ]
  },
  {
   "cell_type": "code",
   "execution_count": null,
   "id": "c355cb68",
   "metadata": {},
   "outputs": [],
   "source": []
  },
  {
   "cell_type": "markdown",
   "id": "f865e3b1",
   "metadata": {},
   "source": [
    "## Task2:\n",
    "\n",
    "**Age Analysis:**\n",
    "- Mean: Calculate the average age of players in the league.\n",
    "- Standard Deviation Intervals:\n",
    "    - Calculate the age range within one standard deviation of the mean.\n",
    "    - Calculate the age range within two standard deviations of the mean.\n",
    "    - Calculate the age range within three standard deviations of the mean.\n",
    "  "
   ]
  },
  {
   "cell_type": "code",
   "execution_count": null,
   "id": "6a8199fa",
   "metadata": {},
   "outputs": [],
   "source": []
  },
  {
   "cell_type": "markdown",
   "id": "25ccac48",
   "metadata": {},
   "source": [
    "## Task3:\n",
    "\n",
    "**Player Rating Analysis:**\n",
    "- Mean: Determine the average player rating across the league.\n",
    "- Standard Deviation Intervals:\n",
    "    - Calculate the player rating range within one standard deviation of the mean.\n",
    "    - Calculate the player rating range within two standard deviations of the mean.\n",
    "    - Calculate the player rating range within three standard deviations of the mean."
   ]
  },
  {
   "cell_type": "code",
   "execution_count": null,
   "id": "19d1a340",
   "metadata": {},
   "outputs": [],
   "source": []
  },
  {
   "cell_type": "markdown",
   "id": "9a1d87b7",
   "metadata": {},
   "source": [
    "## Task4:\n",
    "\n",
    "Create histogram with Kernel Density Estimation (KDE) plots for both the 'age' and 'player_rating' columns from the dataset. While constructing these plots, ensure to visually represent the standard deviation intervals on the graph.\n"
   ]
  },
  {
   "cell_type": "markdown",
   "id": "f23088ec",
   "metadata": {},
   "source": [
    "- **'age'**"
   ]
  },
  {
   "cell_type": "code",
   "execution_count": null,
   "id": "46496dc6",
   "metadata": {},
   "outputs": [],
   "source": []
  },
  {
   "cell_type": "markdown",
   "id": "d5796d1a",
   "metadata": {},
   "source": [
    "- **'player_rating'**"
   ]
  },
  {
   "cell_type": "code",
   "execution_count": null,
   "id": "21b7ead2",
   "metadata": {},
   "outputs": [],
   "source": []
  },
  {
   "cell_type": "markdown",
   "id": "2ce87d11",
   "metadata": {},
   "source": [
    "## Task5\n",
    "\n",
    "- Calculate the lower and upper boundaries for the 'Age' and 'Player_Rating' columns. \n",
    "- For each column, identify values that fall outside the calculated lower and upper boundaries. These values are considered outliers."
   ]
  },
  {
   "cell_type": "markdown",
   "id": "3986392d",
   "metadata": {},
   "source": [
    "- **Display age outliers**"
   ]
  },
  {
   "cell_type": "code",
   "execution_count": null,
   "id": "03f8e1c1",
   "metadata": {},
   "outputs": [],
   "source": []
  },
  {
   "cell_type": "markdown",
   "id": "af6a0dec",
   "metadata": {},
   "source": [
    "- **Display player_rating outliers**"
   ]
  },
  {
   "cell_type": "code",
   "execution_count": null,
   "id": "c024e12e",
   "metadata": {},
   "outputs": [],
   "source": []
  },
  {
   "cell_type": "markdown",
   "id": "cc71ab22",
   "metadata": {},
   "source": [
    "## Task6\n",
    "\n",
    "-  Remove outliers from both the 'age' and 'player_rating' columns and then visualize the adjusted data using histogram plots.\n"
   ]
  },
  {
   "cell_type": "code",
   "execution_count": null,
   "id": "fef877cb",
   "metadata": {},
   "outputs": [],
   "source": []
  },
  {
   "cell_type": "markdown",
   "id": "7cb10d56",
   "metadata": {},
   "source": [
    "- **plot the histograms**"
   ]
  },
  {
   "cell_type": "code",
   "execution_count": null,
   "id": "7b7c1296",
   "metadata": {},
   "outputs": [],
   "source": []
  }
 ],
 "metadata": {
  "kernelspec": {
   "display_name": "Python 3 (ipykernel)",
   "language": "python",
   "name": "python3"
  },
  "language_info": {
   "codemirror_mode": {
    "name": "ipython",
    "version": 3
   },
   "file_extension": ".py",
   "mimetype": "text/x-python",
   "name": "python",
   "nbconvert_exporter": "python",
   "pygments_lexer": "ipython3",
   "version": "3.8.10"
  }
 },
 "nbformat": 4,
 "nbformat_minor": 5
}
