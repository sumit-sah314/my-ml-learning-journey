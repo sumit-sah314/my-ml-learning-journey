{
 "cells": [
  {
   "cell_type": "markdown",
   "id": "fe1f7b86",
   "metadata": {},
   "source": [
    "## Problem Statement\n",
    "\n",
    "You are a data scientist at a retail consulting firm. You have been provided with a dataset named **\"retail_store_sales_data.csv\"**, which includes detailed records of daily sales for a retail store over a two-year period. The dataset comprises the following columns:\n",
    "\n",
    "- **date:** The specific date for each sales record.\n",
    "- **day_of_week:** The day of the week corresponding to each date.\n",
    "- **sales_amount (usd):** : The total sales amount in USD recorded on each day."
   ]
  },
  {
   "cell_type": "code",
   "execution_count": null,
   "id": "7c26a33d",
   "metadata": {},
   "outputs": [],
   "source": []
  },
  {
   "cell_type": "markdown",
   "id": "6e33ad8f",
   "metadata": {},
   "source": [
    "**Import Necessary Libraries**"
   ]
  },
  {
   "cell_type": "code",
   "execution_count": 1,
   "id": "08ab1fe5",
   "metadata": {},
   "outputs": [],
   "source": []
  },
  {
   "cell_type": "markdown",
   "id": "90c7c849",
   "metadata": {},
   "source": [
    "### Task1: Data Import\n",
    "\n",
    "1. Import the data from the \"retail_store_sales_data.csv\" file.\n",
    "2. display the number of rows and columns. \n",
    "3. Display the first few rows of the dataset to get an overview.\n"
   ]
  },
  {
   "cell_type": "code",
   "execution_count": null,
   "id": "e4172f2c",
   "metadata": {},
   "outputs": [],
   "source": []
  },
  {
   "cell_type": "markdown",
   "id": "8289c6ae",
   "metadata": {},
   "source": [
    "### Task2: Histogram Plot of Sales Amounts\n",
    "\n",
    "- Create the histogram plot for the 'sales_amount (usd)' column"
   ]
  },
  {
   "cell_type": "code",
   "execution_count": null,
   "id": "4414a52a",
   "metadata": {},
   "outputs": [],
   "source": []
  },
  {
   "cell_type": "markdown",
   "id": "b71ab51f",
   "metadata": {},
   "source": [
    "### Task 3: Computing Population Standard Deviation\n",
    "\n",
    "- **Determine Standard Deviation:** Calculate the population standard deviation for the 'Sales_Amount (usd)' column. This is helpful in the accurate creation of confidence intervals in subsequent analyses."
   ]
  },
  {
   "cell_type": "code",
   "execution_count": null,
   "id": "100e82e3",
   "metadata": {},
   "outputs": [],
   "source": []
  },
  {
   "cell_type": "markdown",
   "id": "e195bb10",
   "metadata": {},
   "source": [
    "### Task4: Create Sample Data\n",
    "\n",
    "- Create a sample dataset consisting of 100 data points from the 'Sales_Amount (usd)' column.\n",
    "- Calculate the mean for this sample. \n"
   ]
  },
  {
   "cell_type": "code",
   "execution_count": null,
   "id": "692e62a5",
   "metadata": {},
   "outputs": [],
   "source": []
  },
  {
   "cell_type": "code",
   "execution_count": null,
   "id": "ccd03dc6",
   "metadata": {},
   "outputs": [],
   "source": []
  },
  {
   "cell_type": "markdown",
   "id": "e01aef31",
   "metadata": {},
   "source": [
    "### Task 5: Estimating Population Mean at Various Confidence Levels\n",
    "\n",
    "Confidence Interval Calculations: Using the sample data, estimate the population mean for 'Sales_Amount (usd)' at different confidence levels. Specifically, calculate the confidence intervals for the population mean at the following levels:\n",
    "\n",
    "    - 60% Confidence Level\n",
    "    - 82% Confidence Level\n",
    "    - 98% Confidence Level"
   ]
  },
  {
   "cell_type": "markdown",
   "id": "1b9e2c27",
   "metadata": {},
   "source": [
    "- **60% Confidence Level**"
   ]
  },
  {
   "cell_type": "code",
   "execution_count": null,
   "id": "1a45dcf9",
   "metadata": {},
   "outputs": [],
   "source": []
  },
  {
   "cell_type": "markdown",
   "id": "e8014b5e",
   "metadata": {},
   "source": [
    "- **82% Confidence Level**"
   ]
  },
  {
   "cell_type": "code",
   "execution_count": null,
   "id": "af3cb4a4",
   "metadata": {},
   "outputs": [],
   "source": []
  },
  {
   "cell_type": "markdown",
   "id": "5ae0741f",
   "metadata": {},
   "source": [
    "- **98% Confidence Level**"
   ]
  },
  {
   "cell_type": "code",
   "execution_count": null,
   "id": "c9cb8bb5",
   "metadata": {},
   "outputs": [],
   "source": []
  }
 ],
 "metadata": {
  "kernelspec": {
   "display_name": "Python 3 (ipykernel)",
   "language": "python",
   "name": "python3"
  },
  "language_info": {
   "codemirror_mode": {
    "name": "ipython",
    "version": 3
   },
   "file_extension": ".py",
   "mimetype": "text/x-python",
   "name": "python",
   "nbconvert_exporter": "python",
   "pygments_lexer": "ipython3",
   "version": "3.8.10"
  }
 },
 "nbformat": 4,
 "nbformat_minor": 5
}
