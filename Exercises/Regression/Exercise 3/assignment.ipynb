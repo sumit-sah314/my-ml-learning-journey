{
 "cells": [
  {
   "cell_type": "markdown",
   "id": "9402d122-421e-4d46-8821-3a634505d99c",
   "metadata": {},
   "source": [
    "### Problem Statement\n",
    "You are a data scientist / AI engineer at an educational consulting firm. You have been provided with a dataset named **`\"student_scores.csv\"`**, which includes records of the number of hours students studied and the marks they obtained. The dataset comprises the following columns:\n",
    "\n",
    "- `hours:` The number of hours a student studied.\n",
    "- `scores:` The marks obtained by the student.\n",
    "\n",
    "Your task is to use this dataset to build a polynomial regression model to predict the marks of students based on the number of hours they studied. You will need to split the data into training and test sets, train the model, and evaluate its performance using appropriate metrics."
   ]
  },
  {
   "cell_type": "markdown",
   "id": "34f7584f-ef5f-4480-897e-c21d24bcac1a",
   "metadata": {},
   "source": [
    "**Import Necessary Libraries**"
   ]
  },
  {
   "cell_type": "code",
   "execution_count": 1,
   "id": "6e6571d1-8350-4669-9f90-4cd1adbeb956",
   "metadata": {},
   "outputs": [],
   "source": [
    "# Import necessary libraries\n"
   ]
  },
  {
   "cell_type": "markdown",
   "id": "cb341f09-68a8-47db-8f77-8006154eb31c",
   "metadata": {},
   "source": [
    "### Task 1: Data Preparation and Exploration\n",
    "\n",
    "1. Import the data from the `\"student_scores.csv\"` file and store it in a variable df.\n",
    "2. Display the number of rows and columns in the dataset.\n",
    "3. Display the first few rows of the dataset to get an overview.\n",
    "4. Visualize the relationship between the number of hours studied and the marks obtained."
   ]
  },
  {
   "cell_type": "code",
   "execution_count": 2,
   "id": "d72964d6-5172-4271-b131-85383bd90615",
   "metadata": {},
   "outputs": [],
   "source": [
    "# Step 1: Import the data from the \"student_study_hours.csv\" file and store it in a variable 'df'\n",
    "\n",
    "\n",
    "# Step 2: Display the number of rows and columns in the dataset\n",
    "\n",
    "\n",
    "# Step 3: Display the first few rows of the dataset to get an overview\n"
   ]
  },
  {
   "cell_type": "code",
   "execution_count": 3,
   "id": "e2cfb930-86b9-4d72-9d1f-a363fe89d5ff",
   "metadata": {},
   "outputs": [],
   "source": [
    "# Step 4: Visualize the relationship between the number of hours studied and the marks obtained\n"
   ]
  },
  {
   "cell_type": "markdown",
   "id": "4715a770-95e7-4d61-8940-459d2315f888",
   "metadata": {},
   "source": [
    "### Task 2: Train a Polynomial Regression Model\n",
    "\n",
    "1. Select the feature (hours) and the target variable (scores) for modeling.\n",
    "2. Split the data into training and test sets with a test size of 25%.\n",
    "3. Create a Polynomial Features transformer with a degree of 3 and transform the training and test sets.\n",
    "4. Create a Linear Regression model and fit it using the transformed training data.\n",
    "5. Print the model's coefficients and intercept."
   ]
  },
  {
   "cell_type": "code",
   "execution_count": 4,
   "id": "0d7af1f6-a428-4be9-90b1-ee245efffe5f",
   "metadata": {},
   "outputs": [],
   "source": [
    "# Step 1: Select the feature and target variable for modeling\n",
    "\n",
    "\n",
    "# Step 2: Split the data into training and test sets with a test size of 25%\n"
   ]
  },
  {
   "cell_type": "code",
   "execution_count": 5,
   "id": "b409f9c2-a01b-43d1-92b8-73d790700d6f",
   "metadata": {},
   "outputs": [],
   "source": [
    "# Step 3: Create a Polynomial Features transformer with a degree of 3 and transform the training and test sets\n"
   ]
  },
  {
   "cell_type": "code",
   "execution_count": 6,
   "id": "f603c09a-dd2e-4d1a-b08f-55d1e54f69e4",
   "metadata": {},
   "outputs": [],
   "source": [
    "# Step 4: Create a Linear Regression model and fit it using the transformed training data\n"
   ]
  },
  {
   "cell_type": "code",
   "execution_count": 7,
   "id": "f680ab4e-7dce-4a7c-b4bd-fde62a0643ab",
   "metadata": {},
   "outputs": [],
   "source": [
    "# Print the model's coefficients and intercept\n"
   ]
  },
  {
   "cell_type": "markdown",
   "id": "3843905a-d817-4021-ba2c-d5e72f0a1b2b",
   "metadata": {},
   "source": [
    "### Task 3: Model Evaluation\n",
    "1. Make predictions on the test set using the trained model.\n",
    "2. Evaluate the model using Mean Squared Error (MSE) and R-squared (R2) metrics.\n",
    "3. Print the MSE and R2 values."
   ]
  },
  {
   "cell_type": "code",
   "execution_count": 8,
   "id": "778ab058-99a6-47f9-8a03-0677335ead89",
   "metadata": {},
   "outputs": [],
   "source": [
    "# Step 1: Make predictions on the test set using the trained model\n",
    "\n",
    "\n",
    "# Step 2: Evaluate the model using Mean Squared Error (MSE) and R-squared (R2) metrics\n",
    "\n",
    "\n",
    "# Step 3: Print the MSE and R2 values\n"
   ]
  }
 ],
 "metadata": {
  "kernelspec": {
   "display_name": "Python 3 (ipykernel)",
   "language": "python",
   "name": "python3"
  },
  "language_info": {
   "codemirror_mode": {
    "name": "ipython",
    "version": 3
   },
   "file_extension": ".py",
   "mimetype": "text/x-python",
   "name": "python",
   "nbconvert_exporter": "python",
   "pygments_lexer": "ipython3",
   "version": "3.10.11"
  }
 },
 "nbformat": 4,
 "nbformat_minor": 5
}
