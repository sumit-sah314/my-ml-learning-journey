{
 "cells": [
  {
   "cell_type": "markdown",
   "id": "9f3ff33c-6de3-4403-a484-bcfa23016ac5",
   "metadata": {},
   "source": [
    "### Problem Statement\n",
    "\n",
    "You are a data scientist / AI engineer at a healthcare consulting firm. You have been provided with a dataset named **`\"patient_health_data.csv\"`**, which includes records of various health indicators for a group of patients. The dataset comprises the following columns:\n",
    "\n",
    "- `age:` The age of the patient.\n",
    "- `bmi:` Body Mass Index of the patient.\n",
    "- `blood_pressure:` The blood pressure of the patient.\n",
    "- `cholesterol:` Cholesterol levels of the patient.\n",
    "- `glucose:` Glucose levels of the patient.\n",
    "- `insulin:` Insulin levels of the patient.\n",
    "- `heart_rate:` Heart rate of the patient.\n",
    "- `activity_level:` Activity level of the patient.\n",
    "- `diet_quality:` Quality of diet of the patient.\n",
    "- `smoking_status:` Whether the patient smokes (Yes or No).\n",
    "- `alcohol_intake:` The amount of alcohol intake by the patient.\n",
    "- `health_risk_score:` A composite score representing the overall health risk of a patient.\n",
    "\n",
    "Your task is to use this dataset to build a linear regression model to predict the health risk score based on the given predictor variables. Additionally, you will use L1 (Lasso) and L2 (Ridge) regularization techniques to improve the model's performance. "
   ]
  },
  {
   "cell_type": "markdown",
   "id": "e1eac6f0-96bf-499a-94c1-5c16b54373bb",
   "metadata": {},
   "source": [
    "**Import Necessary Libraries**"
   ]
  },
  {
   "cell_type": "code",
   "execution_count": 1,
   "id": "2fd337fd-ceb1-4266-b487-2015d3b47876",
   "metadata": {},
   "outputs": [],
   "source": [
    "# Import necessary libraries\n"
   ]
  },
  {
   "cell_type": "markdown",
   "id": "33d9a812-9dfb-4323-bc42-04a1fba1b73d",
   "metadata": {},
   "source": [
    "### Task 1: Data Preparation and Exploration\n",
    "\n",
    "1. Import the data from the **`\"patient_health_data.csv\"`** file and store it in a variable df.\n",
    "2. Display the number of rows and columns in the dataset.\n",
    "3. Display the first few rows of the dataset to get an overview.\n",
    "4. Check for any missing values in the dataset and handle them appropriately.\n",
    "5. Encode the categorical variable `'smoking_status'` by converting 'Yes' to 1 and 'No' to 0."
   ]
  },
  {
   "cell_type": "code",
   "execution_count": 2,
   "id": "f9ec42ac-a645-4d39-a809-acfbed5d30fe",
   "metadata": {},
   "outputs": [],
   "source": [
    "# Step 1: Import the data from the \"patient_health_data.csv\" file and store it in a variable 'df'\n",
    "\n",
    "\n",
    "# Step 2: Display the number of rows and columns in the dataset\n",
    "\n",
    "\n",
    "# Step 3: Display the first few rows of the dataset to get an overview\n"
   ]
  },
  {
   "cell_type": "code",
   "execution_count": 3,
   "id": "544ecea9-7860-4623-97ee-5218ee729282",
   "metadata": {},
   "outputs": [],
   "source": [
    "# Step 4: Check for any missing values in the dataset and handle them appropriately\n"
   ]
  },
  {
   "cell_type": "code",
   "execution_count": 4,
   "id": "f66339cd-ea78-443c-855c-9ebd9c936aa4",
   "metadata": {},
   "outputs": [],
   "source": [
    "# Step 5: Encode the categorical variable 'smoking_status' by converting 'Yes' to 1 and 'No' to 0.\n"
   ]
  },
  {
   "cell_type": "markdown",
   "id": "f16b6366-41ba-4f54-a398-30b7d04fa741",
   "metadata": {},
   "source": [
    "### Task 2: Train Linear Regression Models\n",
    "\n",
    "1. Select the features and the target variable for modeling.\n",
    "2. Split the data into training and test sets with a test size of 25%.\n",
    "3. Initialize and train a Linear Regression model, and evaluate its performance using R-squared.\n",
    "4. Initialize and train a Lasso Regression model with various alpha values provided in a list: [0.01, 0.1, 1.0, 10.0], and evaluate its performance using R-squared.\n",
    "5. Initialize and train a Ridge Regression model with various alpha values provided in a list: [0.01, 0.1, 1.0, 10.0], and evaluate its performance using R-squared."
   ]
  },
  {
   "cell_type": "code",
   "execution_count": 5,
   "id": "10384638-ccbf-4ff0-a3f7-b1761f083aab",
   "metadata": {},
   "outputs": [],
   "source": [
    "# Step 1: Select the features and target variable for modeling\n",
    "\n",
    "\n",
    "# Step 2: Split the data into training and test sets with a test size of 25%\n"
   ]
  },
  {
   "cell_type": "code",
   "execution_count": 6,
   "id": "d78f133c-a91c-4022-a29d-b56f83d3c76e",
   "metadata": {},
   "outputs": [],
   "source": [
    "# Step 3: Initialize and train a Linear Regression model, and evaluate its performance using R-squared\n"
   ]
  },
  {
   "cell_type": "code",
   "execution_count": 7,
   "id": "9f4e756b-561b-4a42-b674-4d852482ea7c",
   "metadata": {},
   "outputs": [],
   "source": [
    "# Step 4: Initialize and train a Lasso Regression model with various alpha values provided in a list, and evaluate its performance using R-squared\n"
   ]
  },
  {
   "cell_type": "code",
   "execution_count": 8,
   "id": "45206af6-ea76-4947-abac-681008cb3857",
   "metadata": {},
   "outputs": [],
   "source": [
    "# Step 5: Initialize and train a Ridge Regression model with various alpha values provided in a list, and evaluate its performance using R-squared\n"
   ]
  }
 ],
 "metadata": {
  "kernelspec": {
   "display_name": "Python 3 (ipykernel)",
   "language": "python",
   "name": "python3"
  },
  "language_info": {
   "codemirror_mode": {
    "name": "ipython",
    "version": 3
   },
   "file_extension": ".py",
   "mimetype": "text/x-python",
   "name": "python",
   "nbconvert_exporter": "python",
   "pygments_lexer": "ipython3",
   "version": "3.10.11"
  }
 },
 "nbformat": 4,
 "nbformat_minor": 5
}
