{
 "cells": [
  {
   "cell_type": "markdown",
   "id": "3daddf39-5f58-4087-9ca8-cc082dcf60b5",
   "metadata": {},
   "source": [
    "### Problem Statement\n",
    "\n",
    "You are a data scientist / AI engineer at a meteorological consulting firm. You have been provided with a dataset named **`\"weather_data.csv\"`**, which includes detailed records of various weather conditions. The dataset comprises the following columns:\n",
    "\n",
    "- `hours_sunlight:` The total number of hours of sunlight received in a day.\n",
    "- `humidity_level:` The humidity level as a percentage.\n",
    "- `daily_temperature:` The temperature recorded at the end of the day in degrees Celsius.\n",
    "\n",
    "Your task is to use this dataset to build a linear regression model to predict the daily temperature based on the hours of sunlight and humidity level. You will need to split the data into training and test sets, train the model, and evaluate its performance using appropriate metrics."
   ]
  },
  {
   "cell_type": "markdown",
   "id": "74dbed49-2e78-4455-9c4b-be3c0fa27c0d",
   "metadata": {},
   "source": [
    "**Import Necessary Libraries**"
   ]
  },
  {
   "cell_type": "code",
   "execution_count": 1,
   "id": "fa54ae4f-db59-4cb0-8308-7672e345498c",
   "metadata": {},
   "outputs": [],
   "source": [
    "# Import necessary libraries\n"
   ]
  },
  {
   "cell_type": "markdown",
   "id": "9182178d-a5df-4e1a-b2e8-51f1c3c6692e",
   "metadata": {},
   "source": [
    "### Task 1: Data Preparation and Exploration\n",
    "1. Import the data from the `\"weather_data.csv\"` file and store it in a variable df.\n",
    "2. Display the number of rows and columns in the dataset.\n",
    "3. Display the first few rows of the dataset to get an overview.\n",
    "4. Check for any missing values in the dataset."
   ]
  },
  {
   "cell_type": "code",
   "execution_count": 11,
   "id": "0f9fe1b4-ef69-49ee-98a7-5c908008fdd8",
   "metadata": {},
   "outputs": [],
   "source": [
    "\n",
    "# Step 1: Import the data from the \"song_popularity.csv\" file and store it in a variable 'df'\n",
    "\n",
    "\n",
    "# Step 2: Display the number of rows and columns in the dataset\n",
    "\n",
    "\n",
    "# Step 3: Display the first few rows of the dataset to get an overview\n"
   ]
  },
  {
   "cell_type": "code",
   "execution_count": 12,
   "id": "3a738f22-aa3f-441d-9353-a71adfcfc7e2",
   "metadata": {},
   "outputs": [],
   "source": [
    "# Step 4: Check for any missing values in the dataset\n"
   ]
  },
  {
   "cell_type": "markdown",
   "id": "ba609f4c-4236-4868-9d15-35e32d1fc17b",
   "metadata": {},
   "source": [
    "### Task 2: Train a Linear Regression Model\n",
    "\n",
    "1. Select the features (hours_sunlight, humidity_level) and the target variable (daily_temperature) for modeling.\n",
    "2. Split the data into training and test sets with a test size of 30%.\n",
    "3. Create a Linear Regression model and fit it using the training data.\n",
    "4. Print the model's coefficients and intercept."
   ]
  },
  {
   "cell_type": "code",
   "execution_count": 6,
   "id": "da547db5-4ff2-431f-af05-23abf3eae112",
   "metadata": {},
   "outputs": [],
   "source": [
    "# Step 1: Select the features and target variable for modeling\n",
    "\n",
    "\n",
    "# Step 2: Split the data into training and test sets with a test size of 30%\n"
   ]
  },
  {
   "cell_type": "code",
   "execution_count": 7,
   "id": "785427fa-4ba8-4eb0-9cdb-ca6e7134569d",
   "metadata": {},
   "outputs": [],
   "source": [
    "# Step 3: Create a Linear Regression model and fit it using the training data\n",
    "\n",
    "\n",
    "# Step 4: Print the model's coefficients and intercept\n"
   ]
  },
  {
   "cell_type": "markdown",
   "id": "5839c18f-57db-4f41-b2b6-8858653a661a",
   "metadata": {},
   "source": [
    "### Task 3: Model Evaluation\n",
    "\n",
    "1. Make predictions on the test set using the trained model.\n",
    "2. Evaluate the model using Mean Squared Error (MSE) and R-squared (R2) metrics.\n",
    "3. Print the MSE and R2 values.\n",
    "4. Display the first few actual vs. predicted values for the daily temperature."
   ]
  },
  {
   "cell_type": "code",
   "execution_count": 9,
   "id": "7d12750b-40dd-4e8b-8cdd-8228dd9b70b6",
   "metadata": {},
   "outputs": [],
   "source": [
    "# Step 1: Make predictions on the test set using the trained modely_pred = model.predict(X_test)\n",
    "\n",
    "\n",
    "# Step 2: Evaluate the model using Mean Squared Error (MSE) and R-squared (R2) metrics\n",
    "\n"
   ]
  },
  {
   "cell_type": "code",
   "execution_count": 10,
   "id": "2b945d00-97ea-4406-a526-79a0c03cef54",
   "metadata": {},
   "outputs": [],
   "source": [
    "# Step 3: Print the MSE and R2 values\n",
    "\n",
    "\n",
    "# Step 4: Display the first few actual vs. predicted values for the daily temperature\n"
   ]
  }
 ],
 "metadata": {
  "kernelspec": {
   "display_name": "Python 3 (ipykernel)",
   "language": "python",
   "name": "python3"
  },
  "language_info": {
   "codemirror_mode": {
    "name": "ipython",
    "version": 3
   },
   "file_extension": ".py",
   "mimetype": "text/x-python",
   "name": "python",
   "nbconvert_exporter": "python",
   "pygments_lexer": "ipython3",
   "version": "3.10.11"
  }
 },
 "nbformat": 4,
 "nbformat_minor": 5
}
