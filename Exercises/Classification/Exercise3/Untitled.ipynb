{
 "cells": [
  {
   "cell_type": "code",
   "execution_count": null,
   "id": "f8ae7c9d-0380-4ccf-8c6a-16f410fd99e6",
   "metadata": {},
   "outputs": [],
   "source": []
  }
 ],
 "metadata": {
  "kernelspec": {
   "display_name": "",
   "name": ""
  },
  "language_info": {
   "name": ""
  }
 },
 "nbformat": 4,
 "nbformat_minor": 5
}
