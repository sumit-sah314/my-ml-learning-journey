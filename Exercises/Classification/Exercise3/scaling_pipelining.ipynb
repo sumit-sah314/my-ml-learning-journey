{
 "cells": [
  {
   "cell_type": "markdown",
   "id": "344a6c35-2e00-44f3-9d4d-345ce03b2144",
   "metadata": {},
   "source": [
    "### Import Necessary Libraries"
   ]
  },
  {
   "cell_type": "code",
   "execution_count": 26,
   "id": "9fdf0a97-6da7-4cb2-9498-814e6dc17304",
   "metadata": {},
   "outputs": [],
   "source": [
    "import pandas as pd\n",
    "from sklearn.model_selection import train_test_split\n",
    "from sklearn.metrics import classification_report\n",
    "from sklearn.svm import SVC\n",
    "from sklearn.preprocessing import StandardScaler, MinMaxScaler\n",
    "from sklearn.pipeline import Pipeline"
   ]
  },
  {
   "cell_type": "markdown",
   "id": "52cc3a5b-8cb9-4665-9785-eac43f7f6ee4",
   "metadata": {},
   "source": [
    "### Load Data Set"
   ]
  },
  {
   "cell_type": "code",
   "execution_count": 6,
   "id": "0f10550f-bfff-4404-9b08-d0208f1200a4",
   "metadata": {},
   "outputs": [
    {
     "data": {
      "text/html": [
       "<div>\n",
       "<style scoped>\n",
       "    .dataframe tbody tr th:only-of-type {\n",
       "        vertical-align: middle;\n",
       "    }\n",
       "\n",
       "    .dataframe tbody tr th {\n",
       "        vertical-align: top;\n",
       "    }\n",
       "\n",
       "    .dataframe thead th {\n",
       "        text-align: right;\n",
       "    }\n",
       "</style>\n",
       "<table border=\"1\" class=\"dataframe\">\n",
       "  <thead>\n",
       "    <tr style=\"text-align: right;\">\n",
       "      <th></th>\n",
       "      <th>Area</th>\n",
       "      <th>MajorAxisLength</th>\n",
       "      <th>MinorAxisLength</th>\n",
       "      <th>Eccentricity</th>\n",
       "      <th>ConvexArea</th>\n",
       "      <th>Extent</th>\n",
       "      <th>Perimeter</th>\n",
       "      <th>Class</th>\n",
       "    </tr>\n",
       "  </thead>\n",
       "  <tbody>\n",
       "    <tr>\n",
       "      <th>372</th>\n",
       "      <td>87937</td>\n",
       "      <td>365.836992</td>\n",
       "      <td>307.911698</td>\n",
       "      <td>0.540002</td>\n",
       "      <td>89581</td>\n",
       "      <td>0.711010</td>\n",
       "      <td>1099.568</td>\n",
       "      <td>Kecimen</td>\n",
       "    </tr>\n",
       "    <tr>\n",
       "      <th>78</th>\n",
       "      <td>76984</td>\n",
       "      <td>425.048186</td>\n",
       "      <td>233.973442</td>\n",
       "      <td>0.834859</td>\n",
       "      <td>78641</td>\n",
       "      <td>0.758755</td>\n",
       "      <td>1091.754</td>\n",
       "      <td>Kecimen</td>\n",
       "    </tr>\n",
       "    <tr>\n",
       "      <th>347</th>\n",
       "      <td>61967</td>\n",
       "      <td>364.784018</td>\n",
       "      <td>218.566173</td>\n",
       "      <td>0.800625</td>\n",
       "      <td>63724</td>\n",
       "      <td>0.687300</td>\n",
       "      <td>981.059</td>\n",
       "      <td>Kecimen</td>\n",
       "    </tr>\n",
       "    <tr>\n",
       "      <th>671</th>\n",
       "      <td>182823</td>\n",
       "      <td>700.008462</td>\n",
       "      <td>337.706667</td>\n",
       "      <td>0.875933</td>\n",
       "      <td>190749</td>\n",
       "      <td>0.698891</td>\n",
       "      <td>1789.254</td>\n",
       "      <td>Besni</td>\n",
       "    </tr>\n",
       "    <tr>\n",
       "      <th>534</th>\n",
       "      <td>163082</td>\n",
       "      <td>696.149046</td>\n",
       "      <td>302.222447</td>\n",
       "      <td>0.900848</td>\n",
       "      <td>167442</td>\n",
       "      <td>0.763779</td>\n",
       "      <td>1687.178</td>\n",
       "      <td>Besni</td>\n",
       "    </tr>\n",
       "  </tbody>\n",
       "</table>\n",
       "</div>"
      ],
      "text/plain": [
       "       Area  MajorAxisLength  MinorAxisLength  Eccentricity  ConvexArea  \\\n",
       "372   87937       365.836992       307.911698      0.540002       89581   \n",
       "78    76984       425.048186       233.973442      0.834859       78641   \n",
       "347   61967       364.784018       218.566173      0.800625       63724   \n",
       "671  182823       700.008462       337.706667      0.875933      190749   \n",
       "534  163082       696.149046       302.222447      0.900848      167442   \n",
       "\n",
       "       Extent  Perimeter    Class  \n",
       "372  0.711010   1099.568  Kecimen  \n",
       "78   0.758755   1091.754  Kecimen  \n",
       "347  0.687300    981.059  Kecimen  \n",
       "671  0.698891   1789.254    Besni  \n",
       "534  0.763779   1687.178    Besni  "
      ]
     },
     "execution_count": 6,
     "metadata": {},
     "output_type": "execute_result"
    }
   ],
   "source": [
    "df = pd.read_excel(\"Raisin_Dataset.xlsx\")\n",
    "df.sample(5)"
   ]
  },
  {
   "cell_type": "markdown",
   "id": "989f111e-b04a-4e07-994d-81169b6192bc",
   "metadata": {},
   "source": [
    "### Tain Test Split"
   ]
  },
  {
   "cell_type": "code",
   "execution_count": 7,
   "id": "54aac18e-3999-4604-8459-1a1422e22e01",
   "metadata": {},
   "outputs": [],
   "source": [
    "X = df.drop('Class', axis=1)\n",
    "y = df['Class']\n",
    "# X.sample(5)\n",
    "# y.sample(5)\n",
    "X_train, X_test, y_train, y_test = train_test_split(X, y, test_size=0.2, random_state=10)"
   ]
  },
  {
   "cell_type": "markdown",
   "id": "b2041d9d-52ca-4410-aa2d-eae4db7b05d2",
   "metadata": {},
   "source": [
    "### Data Scaling"
   ]
  },
  {
   "cell_type": "code",
   "execution_count": 20,
   "id": "907e16b1-c1e2-4b9e-bf89-c8e8f164dd01",
   "metadata": {},
   "outputs": [
    {
     "data": {
      "text/plain": [
       "array([[ 0.98369528,  0.41344215,  1.83005975, ...,  1.06982849,\n",
       "        -1.39598956,  1.40080884],\n",
       "       [ 1.42589144,  0.33065747,  2.8586639 , ...,  1.35328748,\n",
       "         0.94973473,  0.93602325],\n",
       "       [ 0.10158614,  0.02447351,  0.3162051 , ...,  0.05629692,\n",
       "        -0.12319515, -0.00300658],\n",
       "       ...,\n",
       "       [ 1.94040593,  1.41267887,  1.94025974, ...,  1.87217696,\n",
       "         0.09689362,  1.66678384],\n",
       "       [-0.85910087, -0.68228209, -1.1222849 , ..., -0.86451533,\n",
       "        -0.81612799, -0.8599019 ],\n",
       "       [-0.22886166, -0.30895625,  0.04957521, ..., -0.25064868,\n",
       "        -0.39412057, -0.26752331]], shape=(720, 7))"
      ]
     },
     "execution_count": 20,
     "metadata": {},
     "output_type": "execute_result"
    }
   ],
   "source": [
    "scaler = StandardScaler()\n",
    "scaler.fit(X)\n",
    "X_train_scaled = scaler.transform(X_train)\n",
    "X_test_scaled = scaler.transform(X_test)\n",
    "X_train_scaled"
   ]
  },
  {
   "cell_type": "markdown",
   "id": "af5126dc-e1f2-4198-b2ca-88a031ec5ac7",
   "metadata": {},
   "source": [
    "### Model Training Using SVM: RBF Kernel (Without Feature Scaling)"
   ]
  },
  {
   "cell_type": "code",
   "execution_count": 22,
   "id": "4702da86-e113-44f6-9311-2f6da70c8871",
   "metadata": {
    "scrolled": true
   },
   "outputs": [
    {
     "name": "stdout",
     "output_type": "stream",
     "text": [
      "              precision    recall  f1-score   support\n",
      "\n",
      "       Besni       0.86      0.75      0.80        83\n",
      "     Kecimen       0.81      0.90      0.85        97\n",
      "\n",
      "    accuracy                           0.83       180\n",
      "   macro avg       0.83      0.82      0.82       180\n",
      "weighted avg       0.83      0.83      0.83       180\n",
      "\n",
      "[229]\n"
     ]
    }
   ],
   "source": [
    "model = SVC(kernel = \"rbf\")\n",
    "model.fit(X_train, y_train)\n",
    "y_pred = model.predict(X_test)\n",
    "\n",
    "report = classification_report(y_test, y_pred)\n",
    "print(report)\n",
    "print(model.n_iter_)"
   ]
  },
  {
   "cell_type": "markdown",
   "id": "8c7fd0c8-a394-4fbb-a0c1-0a985e48fcc0",
   "metadata": {},
   "source": [
    "### Model Training Using SVM: Linear Kernel (Without Feature Scaling)"
   ]
  },
  {
   "cell_type": "code",
   "execution_count": 23,
   "id": "a973a43c-1ba4-4424-ab04-657f1da65cb6",
   "metadata": {},
   "outputs": [
    {
     "name": "stdout",
     "output_type": "stream",
     "text": [
      "              precision    recall  f1-score   support\n",
      "\n",
      "       Besni       0.91      0.88      0.90        83\n",
      "     Kecimen       0.90      0.93      0.91        97\n",
      "\n",
      "    accuracy                           0.91       180\n",
      "   macro avg       0.91      0.90      0.90       180\n",
      "weighted avg       0.91      0.91      0.91       180\n",
      "\n",
      "[85005907]\n"
     ]
    }
   ],
   "source": [
    "model = SVC(kernel = 'linear')\n",
    "model.fit(X_train, y_train)\n",
    "y_pred = model.predict(X_test)\n",
    "\n",
    "report = classification_report(y_test, y_pred)\n",
    "print(report)\n",
    "print(model.n_iter_)"
   ]
  },
  {
   "cell_type": "markdown",
   "id": "6d19fbe6-0ebd-4eb2-93f9-f21bdf48634a",
   "metadata": {},
   "source": [
    "### Model Training Using SVM: RBF Kernel (With Feature Scaling)"
   ]
  },
  {
   "cell_type": "code",
   "execution_count": 24,
   "id": "ce12009f-d154-4e8c-bd83-301876f38b11",
   "metadata": {},
   "outputs": [
    {
     "name": "stdout",
     "output_type": "stream",
     "text": [
      "              precision    recall  f1-score   support\n",
      "\n",
      "       Besni       0.91      0.83      0.87        83\n",
      "     Kecimen       0.87      0.93      0.90        97\n",
      "\n",
      "    accuracy                           0.88       180\n",
      "   macro avg       0.89      0.88      0.88       180\n",
      "weighted avg       0.88      0.88      0.88       180\n",
      "\n",
      "[419]\n"
     ]
    }
   ],
   "source": [
    "model = SVC(kernel = \"rbf\")\n",
    "model.fit(X_train_scaled, y_train)\n",
    "y_pred = model.predict(X_test_scaled)\n",
    "\n",
    "report = classification_report(y_test, y_pred)\n",
    "print(report)\n",
    "print(model.n_iter_)"
   ]
  },
  {
   "cell_type": "markdown",
   "id": "e65329d8-9b74-41e4-b542-18690432a480",
   "metadata": {},
   "source": [
    "### Model Training Using SVM: Linear Kernel (With Feature Scaling)"
   ]
  },
  {
   "cell_type": "code",
   "execution_count": 25,
   "id": "3497aedc-9fe7-4c8f-be30-0c2d43b9f11d",
   "metadata": {},
   "outputs": [
    {
     "name": "stdout",
     "output_type": "stream",
     "text": [
      "              precision    recall  f1-score   support\n",
      "\n",
      "       Besni       0.90      0.84      0.87        83\n",
      "     Kecimen       0.87      0.92      0.89        97\n",
      "\n",
      "    accuracy                           0.88       180\n",
      "   macro avg       0.88      0.88      0.88       180\n",
      "weighted avg       0.88      0.88      0.88       180\n",
      "\n",
      "[2164]\n"
     ]
    }
   ],
   "source": [
    "model = SVC(kernel = 'linear')\n",
    "model.fit(X_train_scaled, y_train)\n",
    "y_pred = model.predict(X_test_scaled)\n",
    "\n",
    "report = classification_report(y_test, y_pred)\n",
    "print(report)\n",
    "print(model.n_iter_)"
   ]
  },
  {
   "cell_type": "markdown",
   "id": "4b1b1ea7-64b1-4b38-bfdc-9f373676a950",
   "metadata": {},
   "source": [
    "### Pipelining"
   ]
  },
  {
   "cell_type": "code",
   "execution_count": 28,
   "id": "814ca9de-6e21-43b3-929d-63b34d50f534",
   "metadata": {},
   "outputs": [
    {
     "name": "stdout",
     "output_type": "stream",
     "text": [
      "              precision    recall  f1-score   support\n",
      "\n",
      "       Besni       0.91      0.81      0.85        83\n",
      "     Kecimen       0.85      0.93      0.89        97\n",
      "\n",
      "    accuracy                           0.87       180\n",
      "   macro avg       0.88      0.87      0.87       180\n",
      "weighted avg       0.88      0.87      0.87       180\n",
      "\n",
      "[2164]\n"
     ]
    }
   ],
   "source": [
    "pipeline = Pipeline([\n",
    "    ('scale', StandardScaler()),\n",
    "    ('svc', SVC(kernel = \"rbf\", C=5))\n",
    "])\n",
    "\n",
    "pipeline.fit(X_train, y_train)\n",
    "\n",
    "y_pred = pipeline.predict(X_test)\n",
    "report = classification_report(y_test, y_pred)\n",
    "print(report)\n",
    "print(model.n_iter_)"
   ]
  },
  {
   "cell_type": "code",
   "execution_count": null,
   "id": "03793ccb-56bb-4c63-ba4e-81b093af44bf",
   "metadata": {},
   "outputs": [],
   "source": []
  }
 ],
 "metadata": {
  "kernelspec": {
   "display_name": "Python [conda env:base] *",
   "language": "python",
   "name": "conda-base-py"
  },
  "language_info": {
   "codemirror_mode": {
    "name": "ipython",
    "version": 3
   },
   "file_extension": ".py",
   "mimetype": "text/x-python",
   "name": "python",
   "nbconvert_exporter": "python",
   "pygments_lexer": "ipython3",
   "version": "3.12.7"
  }
 },
 "nbformat": 4,
 "nbformat_minor": 5
}
